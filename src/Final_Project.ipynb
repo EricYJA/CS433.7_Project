{
 "cells": [
  {
   "cell_type": "markdown",
   "metadata": {},
   "source": [
    "# Customer Transaction Prediction"
   ]
  },
  {
   "cell_type": "code",
   "execution_count": 1,
   "metadata": {},
   "outputs": [],
   "source": [
    "import random\n",
    "import numpy as np\n",
    "import pandas as pd\n",
    "import tensorflow as tf\n",
    "import matplotlib.pyplot as plt\n",
    "\n",
    "from time import time\n",
    "from sklearn import preprocessing\n",
    "from sklearn.preprocessing import OneHotEncoder\n",
    "from sklearn.model_selection import train_test_split\n",
    "from imblearn.over_sampling import RandomOverSampler"
   ]
  },
  {
   "cell_type": "code",
   "execution_count": 2,
   "metadata": {},
   "outputs": [],
   "source": [
    "# Reading training data\n",
    "data_set_train = pd.read_csv(\"./train.csv\")\n",
    "trainData_X = data_set_train.drop(['ID_code', 'target'], axis = 1)\n",
    "trainData_Y = data_set_train['target']"
   ]
  },
  {
   "cell_type": "markdown",
   "metadata": {},
   "source": [
    "# Data Exploration"
   ]
  },
  {
   "cell_type": "code",
   "execution_count": 3,
   "metadata": {},
   "outputs": [
    {
     "data": {
      "text/plain": [
       "False"
      ]
     },
     "execution_count": 3,
     "metadata": {},
     "output_type": "execute_result"
    }
   ],
   "source": [
    "# Check null data\n",
    "data_set_train.isnull().any().any()"
   ]
  },
  {
   "cell_type": "code",
   "execution_count": 4,
   "metadata": {},
   "outputs": [
    {
     "data": {
      "text/html": [
       "<div>\n",
       "<style scoped>\n",
       "    .dataframe tbody tr th:only-of-type {\n",
       "        vertical-align: middle;\n",
       "    }\n",
       "\n",
       "    .dataframe tbody tr th {\n",
       "        vertical-align: top;\n",
       "    }\n",
       "\n",
       "    .dataframe thead th {\n",
       "        text-align: right;\n",
       "    }\n",
       "</style>\n",
       "<table border=\"1\" class=\"dataframe\">\n",
       "  <thead>\n",
       "    <tr style=\"text-align: right;\">\n",
       "      <th></th>\n",
       "      <th>var_0</th>\n",
       "      <th>var_1</th>\n",
       "      <th>var_2</th>\n",
       "      <th>var_3</th>\n",
       "      <th>var_4</th>\n",
       "      <th>var_5</th>\n",
       "      <th>var_6</th>\n",
       "      <th>var_7</th>\n",
       "      <th>var_8</th>\n",
       "      <th>var_9</th>\n",
       "      <th>...</th>\n",
       "      <th>var_190</th>\n",
       "      <th>var_191</th>\n",
       "      <th>var_192</th>\n",
       "      <th>var_193</th>\n",
       "      <th>var_194</th>\n",
       "      <th>var_195</th>\n",
       "      <th>var_196</th>\n",
       "      <th>var_197</th>\n",
       "      <th>var_198</th>\n",
       "      <th>var_199</th>\n",
       "    </tr>\n",
       "  </thead>\n",
       "  <tbody>\n",
       "    <tr>\n",
       "      <th>0</th>\n",
       "      <td>8.9255</td>\n",
       "      <td>-6.7863</td>\n",
       "      <td>11.9081</td>\n",
       "      <td>5.0930</td>\n",
       "      <td>11.4607</td>\n",
       "      <td>-9.2834</td>\n",
       "      <td>5.1187</td>\n",
       "      <td>18.6266</td>\n",
       "      <td>-4.9200</td>\n",
       "      <td>5.7470</td>\n",
       "      <td>...</td>\n",
       "      <td>4.4354</td>\n",
       "      <td>3.9642</td>\n",
       "      <td>3.1364</td>\n",
       "      <td>1.6910</td>\n",
       "      <td>18.5227</td>\n",
       "      <td>-2.3978</td>\n",
       "      <td>7.8784</td>\n",
       "      <td>8.5635</td>\n",
       "      <td>12.7803</td>\n",
       "      <td>-1.0914</td>\n",
       "    </tr>\n",
       "    <tr>\n",
       "      <th>1</th>\n",
       "      <td>11.5006</td>\n",
       "      <td>-4.1473</td>\n",
       "      <td>13.8588</td>\n",
       "      <td>5.3890</td>\n",
       "      <td>12.3622</td>\n",
       "      <td>7.0433</td>\n",
       "      <td>5.6208</td>\n",
       "      <td>16.5338</td>\n",
       "      <td>3.1468</td>\n",
       "      <td>8.0851</td>\n",
       "      <td>...</td>\n",
       "      <td>7.6421</td>\n",
       "      <td>7.7214</td>\n",
       "      <td>2.5837</td>\n",
       "      <td>10.9516</td>\n",
       "      <td>15.4305</td>\n",
       "      <td>2.0339</td>\n",
       "      <td>8.1267</td>\n",
       "      <td>8.7889</td>\n",
       "      <td>18.3560</td>\n",
       "      <td>1.9518</td>\n",
       "    </tr>\n",
       "    <tr>\n",
       "      <th>2</th>\n",
       "      <td>8.6093</td>\n",
       "      <td>-2.7457</td>\n",
       "      <td>12.0805</td>\n",
       "      <td>7.8928</td>\n",
       "      <td>10.5825</td>\n",
       "      <td>-9.0837</td>\n",
       "      <td>6.9427</td>\n",
       "      <td>14.6155</td>\n",
       "      <td>-4.9193</td>\n",
       "      <td>5.9525</td>\n",
       "      <td>...</td>\n",
       "      <td>2.9057</td>\n",
       "      <td>9.7905</td>\n",
       "      <td>1.6704</td>\n",
       "      <td>1.6858</td>\n",
       "      <td>21.6042</td>\n",
       "      <td>3.1417</td>\n",
       "      <td>-6.5213</td>\n",
       "      <td>8.2675</td>\n",
       "      <td>14.7222</td>\n",
       "      <td>0.3965</td>\n",
       "    </tr>\n",
       "    <tr>\n",
       "      <th>3</th>\n",
       "      <td>11.0604</td>\n",
       "      <td>-2.1518</td>\n",
       "      <td>8.9522</td>\n",
       "      <td>7.1957</td>\n",
       "      <td>12.5846</td>\n",
       "      <td>-1.8361</td>\n",
       "      <td>5.8428</td>\n",
       "      <td>14.9250</td>\n",
       "      <td>-5.8609</td>\n",
       "      <td>8.2450</td>\n",
       "      <td>...</td>\n",
       "      <td>4.4666</td>\n",
       "      <td>4.7433</td>\n",
       "      <td>0.7178</td>\n",
       "      <td>1.4214</td>\n",
       "      <td>23.0347</td>\n",
       "      <td>-1.2706</td>\n",
       "      <td>-2.9275</td>\n",
       "      <td>10.2922</td>\n",
       "      <td>17.9697</td>\n",
       "      <td>-8.9996</td>\n",
       "    </tr>\n",
       "    <tr>\n",
       "      <th>4</th>\n",
       "      <td>9.8369</td>\n",
       "      <td>-1.4834</td>\n",
       "      <td>12.8746</td>\n",
       "      <td>6.6375</td>\n",
       "      <td>12.2772</td>\n",
       "      <td>2.4486</td>\n",
       "      <td>5.9405</td>\n",
       "      <td>19.2514</td>\n",
       "      <td>6.2654</td>\n",
       "      <td>7.6784</td>\n",
       "      <td>...</td>\n",
       "      <td>-1.4905</td>\n",
       "      <td>9.5214</td>\n",
       "      <td>-0.1508</td>\n",
       "      <td>9.1942</td>\n",
       "      <td>13.2876</td>\n",
       "      <td>-1.5121</td>\n",
       "      <td>3.9267</td>\n",
       "      <td>9.5031</td>\n",
       "      <td>17.9974</td>\n",
       "      <td>-8.8104</td>\n",
       "    </tr>\n",
       "  </tbody>\n",
       "</table>\n",
       "<p>5 rows × 200 columns</p>\n",
       "</div>"
      ],
      "text/plain": [
       "     var_0   var_1    var_2   var_3    var_4   var_5   var_6    var_7   var_8  \\\n",
       "0   8.9255 -6.7863  11.9081  5.0930  11.4607 -9.2834  5.1187  18.6266 -4.9200   \n",
       "1  11.5006 -4.1473  13.8588  5.3890  12.3622  7.0433  5.6208  16.5338  3.1468   \n",
       "2   8.6093 -2.7457  12.0805  7.8928  10.5825 -9.0837  6.9427  14.6155 -4.9193   \n",
       "3  11.0604 -2.1518   8.9522  7.1957  12.5846 -1.8361  5.8428  14.9250 -5.8609   \n",
       "4   9.8369 -1.4834  12.8746  6.6375  12.2772  2.4486  5.9405  19.2514  6.2654   \n",
       "\n",
       "    var_9  ...  var_190  var_191  var_192  var_193  var_194  var_195  var_196  \\\n",
       "0  5.7470  ...   4.4354   3.9642   3.1364   1.6910  18.5227  -2.3978   7.8784   \n",
       "1  8.0851  ...   7.6421   7.7214   2.5837  10.9516  15.4305   2.0339   8.1267   \n",
       "2  5.9525  ...   2.9057   9.7905   1.6704   1.6858  21.6042   3.1417  -6.5213   \n",
       "3  8.2450  ...   4.4666   4.7433   0.7178   1.4214  23.0347  -1.2706  -2.9275   \n",
       "4  7.6784  ...  -1.4905   9.5214  -0.1508   9.1942  13.2876  -1.5121   3.9267   \n",
       "\n",
       "   var_197  var_198  var_199  \n",
       "0   8.5635  12.7803  -1.0914  \n",
       "1   8.7889  18.3560   1.9518  \n",
       "2   8.2675  14.7222   0.3965  \n",
       "3  10.2922  17.9697  -8.9996  \n",
       "4   9.5031  17.9974  -8.8104  \n",
       "\n",
       "[5 rows x 200 columns]"
      ]
     },
     "execution_count": 4,
     "metadata": {},
     "output_type": "execute_result"
    }
   ],
   "source": [
    "trainData_X.head()"
   ]
  },
  {
   "cell_type": "code",
   "execution_count": 7,
   "metadata": {},
   "outputs": [
    {
     "data": {
      "image/png": "[encoded data removed]",
      "text/plain": [
       "<Figure size 432x288 with 1 Axes>"
      ]
     },
     "metadata": {
      "needs_background": "light"
     },
     "output_type": "display_data"
    }
   ],
   "source": [
    "data_set_train['target'].value_counts().plot.bar();"
   ]
  },
  {
   "cell_type": "code",
   "execution_count": 6,
   "metadata": {},
   "outputs": [
    {
     "data": {
      "image/png": "[encoded data removed]",
      "text/plain": [
       "<Figure size 432x288 with 1 Axes>"
      ]
     },
     "metadata": {
      "needs_background": "light"
     },
     "output_type": "display_data"
    }
   ],
   "source": [
    "data_set_train[\"var_0\"].hist();"
   ]
  },
  {
   "cell_type": "code",
   "execution_count": 8,
   "metadata": {},
   "outputs": [
    {
     "data": {
      "image/png": "[encoded data removed]",
      "text/plain": [
       "<Figure size 432x288 with 1 Axes>"
      ]
     },
     "metadata": {
      "needs_background": "light"
     },
     "output_type": "display_data"
    }
   ],
   "source": [
    "data_set_train[\"var_10\"].hist();"
   ]
  },
  {
   "cell_type": "code",
   "execution_count": 9,
   "metadata": {},
   "outputs": [
    {
     "data": {
      "image/png": "[encoded data removed]",
      "text/plain": [
       "<Figure size 432x288 with 1 Axes>"
      ]
     },
     "metadata": {
      "needs_background": "light"
     },
     "output_type": "display_data"
    }
   ],
   "source": [
    "data_set_train[\"var_100\"].hist();"
   ]
  },
  {
   "cell_type": "markdown",
   "metadata": {},
   "source": [
    "# Data Preprocessing"
   ]
  },
  {
   "cell_type": "code",
   "execution_count": 4,
   "metadata": {},
   "outputs": [],
   "source": [
    "# Create training and validation set\n",
    "X_train, X_test, y_train, y_test = train_test_split(trainData_X, trainData_Y, test_size = 0.2)\n",
    "\n",
    "# Convert the pandas dataframe to numpy array\n",
    "X_train = X_train.values\n",
    "X_test = X_test.values\n",
    "y_train = y_train.values\n",
    "y_test = y_test.values\n",
    "\n",
    "# OverSampling\n",
    "ros = RandomOverSampler(random_state=0)\n",
    "X_train_sampled, y_train_sampled = ros.fit_resample(X_train, y_train)\n",
    "\n",
    "# Standardize the data\n",
    "StandardScaler = preprocessing.StandardScaler().fit(X_train_sampled)\n",
    "X_train_sampled = StandardScaler.transform(X_train_sampled)\n",
    "X_test_sampled = StandardScaler.transform(X_test)\n",
    "\n",
    "StandardScaler = preprocessing.StandardScaler().fit(X_train)\n",
    "X_train = StandardScaler.transform(X_train)\n",
    "X_test = StandardScaler.transform(X_test)"
   ]
  },
  {
   "cell_type": "code",
   "execution_count": 4,
   "metadata": {},
   "outputs": [
    {
     "name": "stdout",
     "output_type": "stream",
     "text": [
      "X training:  (287836, 200)\n",
      "y_training:  (287836,)\n",
      "X testing:  (40000, 200)\n",
      "y_testing:  (40000,)\n"
     ]
    }
   ],
   "source": [
    "print(\"X training: \", X_train_sampled.shape)\n",
    "print(\"y_training: \", y_train_sampled.shape)\n",
    "\n",
    "print(\"X testing: \", X_test.shape)\n",
    "print(\"y_testing: \", y_test.shape)"
   ]
  },
  {
   "cell_type": "code",
   "execution_count": 57,
   "metadata": {},
   "outputs": [
    {
     "data": {
      "image/png": "[encoded data removed]",
      "text/plain": [
       "<Figure size 432x288 with 1 Axes>"
      ]
     },
     "metadata": {},
     "output_type": "display_data"
    }
   ],
   "source": [
    "plt.pie([np.sum(y_train_sampled == 0), np.sum(y_train_sampled == 1)], labels = [\"0\", \"1\"], autopct='%1.1f%%');\n",
    "plt.title(\"Proportion of positive and negative data for training.\");"
   ]
  },
  {
   "cell_type": "code",
   "execution_count": 58,
   "metadata": {},
   "outputs": [
    {
     "data": {
      "image/png": "[encoded data removed]",
      "text/plain": [
       "<Figure size 432x288 with 1 Axes>"
      ]
     },
     "metadata": {},
     "output_type": "display_data"
    }
   ],
   "source": [
    "plt.pie([np.sum(y_test == 0), np.sum(y_test == 1)], labels = [\"0\", \"1\"], autopct='%1.1f%%');\n",
    "plt.title(\"Proportion of positive and negative data for testing.\");"
   ]
  },
  {
   "cell_type": "markdown",
   "metadata": {},
   "source": [
    "# Model 1 - SVM"
   ]
  },
  {
   "cell_type": "code",
   "execution_count": 61,
   "metadata": {},
   "outputs": [],
   "source": [
    "# Prepare data for SVM\n",
    "X_train_svm = X_train\n",
    "X_test_svm = X_test\n",
    "\n",
    "y_train_svm = y_train\n",
    "y_train_svm = np.array([-1 if y == 0 else 1 for y in y_train_svm]).reshape(-1, 1)\n",
    "\n",
    "y_test_svm =  y_test\n",
    "y_test_svm = np.array([-1 if y == 0 else 1 for y in y_test_svm]).reshape(-1, 1)"
   ]
  },
  {
   "cell_type": "code",
   "execution_count": 62,
   "metadata": {},
   "outputs": [],
   "source": [
    "svm_Graph = tf.Graph()\n",
    "\n",
    "# Basic settings\n",
    "svm_batch_size = 5000\n",
    "n_features = 200"
   ]
  },
  {
   "cell_type": "code",
   "execution_count": 63,
   "metadata": {},
   "outputs": [],
   "source": [
    "# Build the graph\n",
    "with svm_Graph.as_default():\n",
    "    \n",
    "    with tf.name_scope(\"Variables\"):\n",
    "        global_step = tf.Variable(0, dtype=tf.int32, trainable=False, name=\"global_step\")\n",
    "    \n",
    "    # Get input\n",
    "    with tf.name_scope(\"Input\"):\n",
    "        # Initialize placeholders\n",
    "        x_data = tf.placeholder(shape=[None, n_features], dtype=tf.float32)\n",
    "        y_target = tf.placeholder(shape=[None, 1], dtype=tf.float32)\n",
    "        prediction_grid = tf.placeholder(shape=[None, n_features], dtype=tf.float32)\n",
    "\n",
    "        # Create variables for svm\n",
    "        b = tf.Variable(tf.random_normal(shape=[1, svm_batch_size]))\n",
    "    \n",
    "    # Define gaussion kernel\n",
    "    with tf.name_scope(\"Gaussion_Kernel\"):\n",
    "        gamma = tf.constant(-10.0)\n",
    "        dist = tf.reduce_sum(tf.square(x_data), 1)\n",
    "        dist = tf.reshape(dist, [-1,1])\n",
    "        sq_dists = tf.add(tf.subtract(dist, tf.multiply(2.,tf.matmul(x_data, tf.transpose(x_data)))),\n",
    "                          tf.transpose(dist))\n",
    "        my_kernel = tf.exp(tf.multiply(gamma, tf.abs(sq_dists)))\n",
    "        \n",
    "    # Measuring the dual to compute loss\n",
    "    with tf.name_scope(\"Dual_Measuring\"):\n",
    "        first_term = tf.reduce_sum(b)\n",
    "        b_vec_cross = tf.matmul(tf.transpose(b), b)\n",
    "        y_target_cross = tf.matmul(y_target, tf.transpose(y_target))\n",
    "        second_term = tf.reduce_sum(tf.multiply(my_kernel, tf.multiply(b_vec_cross, y_target_cross)))\n",
    "        loss = tf.negative(tf.subtract(first_term, second_term))\n",
    "        \n",
    "    # Make prediction\n",
    "    with tf.name_scope(\"Predict_and_Accuracy\"):\n",
    "        rA = tf.reshape(tf.reduce_sum(tf.square(x_data), 1), [-1,1])\n",
    "        rB = tf.reshape(tf.reduce_sum(tf.square(prediction_grid), 1), [-1,1])\n",
    "        pred_sq_dist = tf.add(tf.subtract(rA, tf.multiply(2., tf.matmul(x_data, tf.transpose(prediction_grid)))), \n",
    "                              tf.transpose(rB))\n",
    "        pred_kernel = tf.exp(tf.multiply(gamma, tf.abs(pred_sq_dist)))\n",
    "\n",
    "        prediction_output = tf.matmul(tf.multiply(tf.transpose(y_target), b), pred_kernel)\n",
    "        prediction = tf.sign(prediction_output - tf.reduce_mean(prediction_output))\n",
    "        accuracy = tf.reduce_mean(tf.cast(tf.equal(tf.squeeze(prediction), tf.squeeze(y_target)), tf.float32))\n",
    "        \n",
    "    # Optimizer\n",
    "    with tf.name_scope(\"optimizer\"):\n",
    "        my_opt = tf.train.GradientDescentOptimizer(0.001)\n",
    "        train_step = my_opt.minimize(loss)\n",
    "    \n",
    "    # Summary\n",
    "    with tf.name_scope(\"Summary\"):\n",
    "        tf.summary.scalar('Loss', loss)\n",
    "        tf.summary.scalar('Training_Accuracy', accuracy)\n",
    "    \n",
    "    # Global options\n",
    "    with tf.name_scope(\"global_ops\"):\n",
    "        init = tf.group(tf.global_variables_initializer(), tf.local_variables_initializer())\n",
    "        merged_summary = tf.summary.merge_all()\n",
    "        increment_step = global_step.assign_add(1)\n",
    "        "
   ]
  },
  {
   "cell_type": "code",
   "execution_count": 65,
   "metadata": {},
   "outputs": [
    {
     "name": "stdout",
     "output_type": "stream",
     "text": [
      "Train loss = 4186.1187 Train accuracy:  0.4954\n",
      "Train loss = 259.5078 Train accuracy:  0.5652\n",
      "Train loss = -830.83813 Train accuracy:  0.647\n",
      "Train loss = -1133.6068 Train accuracy:  0.763\n",
      "Train loss = -1217.6797 Train accuracy:  0.912\n"
     ]
    }
   ],
   "source": [
    "with tf.Session(graph = svm_Graph) as sess:\n",
    "    writer_svm = tf.summary.FileWriter(\"./\", svm_Graph)\n",
    "    sess.run(init)\n",
    "\n",
    "    for i in range(50):\n",
    "        \n",
    "        total_batch_svm = int(len(X_train_svm) / svm_batch_size)\n",
    "        x_batches_svm = np.array_split(X_train_svm, total_batch_svm)\n",
    "        y_batches_svm = np.array_split(y_train_svm, total_batch_svm)\n",
    "        \n",
    "        for j in range(total_batch_svm):\n",
    "            \n",
    "            feed_dict_train_batch = {x_data: x_batches_svm[j], \n",
    "                                     y_target: y_batches_svm[j]}\n",
    "            \n",
    "            sess.run(train_step, feed_dict=feed_dict_train_batch)\n",
    "            \n",
    "            l = sess.run(loss, feed_dict=feed_dict_train_batch)\n",
    "            acc, summary, step = sess.run([accuracy, merged_summary, increment_step], \n",
    "                                          feed_dict={x_data: x_batches_svm[j], \n",
    "                                                     y_target: y_batches_svm[j], \n",
    "                                                     prediction_grid: x_batches_svm[j]})\n",
    "            \n",
    "            writer_svm.add_summary(summary, global_step=step)\n",
    "            \n",
    "        if i % 10 == 0:\n",
    "            print('Train loss = ' + str(l), \"Train accuracy: \", acc)\n",
    "            \n",
    "    writer_svm.flush()\n",
    "    writer_svm.close()"
   ]
  },
  {
   "cell_type": "markdown",
   "metadata": {},
   "source": [
    "# Model 2 - A Simple Neural Network"
   ]
  },
  {
   "cell_type": "code",
   "execution_count": 5,
   "metadata": {},
   "outputs": [],
   "source": [
    "# Prepare data for NN\n",
    "X_train_nn = X_train_sampled\n",
    "X_test_nn = X_test_sampled\n",
    "\n",
    "y_train_nn = y_train_sampled.reshape(-1, 1)\n",
    "y_test_nn = y_test.reshape(-1, 1)\n",
    "\n",
    "# One Hot Encoder\n",
    "oneHot = OneHotEncoder(categories='auto')\n",
    "oneHot.fit(y_train_nn)\n",
    "y_train_nn = 1 - oneHot.transform(y_train_nn).toarray()\n",
    "\n",
    "oneHot.fit(y_test_nn)\n",
    "y_test_nn = 1 - oneHot.transform(y_test_nn).toarray()"
   ]
  },
  {
   "cell_type": "code",
   "execution_count": 6,
   "metadata": {},
   "outputs": [],
   "source": [
    "nn_Graph = tf.Graph()\n",
    "\n",
    "# Specify some constant value\n",
    "n_hidden_1 = 50\n",
    "n_hidden_2 = 25\n",
    "n_features = 200\n",
    "\n",
    "nn_batch_size = 1000"
   ]
  },
  {
   "cell_type": "code",
   "execution_count": 10,
   "metadata": {},
   "outputs": [],
   "source": [
    "with nn_Graph.as_default():\n",
    "    # Define the model\n",
    "    def Net(x):\n",
    "        with tf.name_scope(\"Layer_1\"):\n",
    "            \n",
    "            with tf.name_scope(\"weights\"):\n",
    "                w1 = tf.Variable(tf.random_normal([n_features, n_hidden_1]), name = \"W1\")\n",
    "                b1 = tf.Variable(tf.random_normal([n_hidden_1]), name = \"b1\")\n",
    "            \n",
    "            layer_1 = tf.add(tf.matmul(x, w1), b1)\n",
    "            layer_1 = tf.layers.batch_normalization(layer_1)\n",
    "            layer_1 = tf.nn.leaky_relu(layer_1)\n",
    "        \n",
    "        with tf.name_scope(\"Layer_2\"):\n",
    "            \n",
    "            with tf.name_scope(\"weights\"):\n",
    "                w2 = tf.Variable(tf.random_normal([n_hidden_1, n_hidden_2]), name = \"W2\")\n",
    "                b2 = tf.Variable(tf.random_normal([n_hidden_2]), name = \"b2\")\n",
    "                \n",
    "            layer_2 = tf.add(tf.matmul(layer_1, w2), b2)\n",
    "            layer_2 = tf.layers.batch_normalization(layer_2)\n",
    "            layer_2 = tf.nn.leaky_relu(layer_2)\n",
    "        \n",
    "        with tf.name_scope(\"Output_Layer\"):\n",
    "            \n",
    "            with tf.name_scope(\"weight\"):\n",
    "                w3 = tf.Variable(tf.random_normal([n_hidden_2, 2]), name = \"W3\")\n",
    "                b3 = tf.Variable(tf.random_normal([2]), name = \"b3\")\n",
    "                \n",
    "            logits = tf.add(tf.matmul(layer_2, w3), b3)\n",
    "            \n",
    "        return logits\n",
    "    \n",
    "    with tf.name_scope(\"Input_Layer\"):\n",
    "        # Placeholder for X and Y values\n",
    "        x = tf.placeholder(\"float\", [None, n_features], name = \"X\")\n",
    "        y = tf.placeholder(\"float\", [None, 2], name = \"y\")\n",
    "            \n",
    "    # Initialize the model\n",
    "    global_step = tf.Variable(0, dtype=tf.int32, trainable=False, name=\"global_step\")\n",
    "    logits = Net(x)\n",
    "    y_pred = tf.nn.softmax(logits, name = \"y_pred\")\n",
    "    \n",
    "    with tf.name_scope(\"Loss_and_Accuracy\"):\n",
    "        # Loss\n",
    "        loss = tf.reduce_mean(tf.nn.sigmoid_cross_entropy_with_logits(logits = logits, labels = y), name = \"Loss\")\n",
    "        \n",
    "        # Accuracy\n",
    "        accuracy = tf.reduce_mean(tf.cast(tf.equal(tf.argmax(y_pred, 1), tf.argmax(y, 1)), tf.float32))\n",
    "        \n",
    "        # Confusion matrix\n",
    "        confusion_matrix = tf.confusion_matrix(tf.argmax(logits, 1), tf.argmax(y, 1 ))\n",
    "        \n",
    "    with tf.name_scope(\"AUC\"):\n",
    "        auc, auc_update_op = tf.metrics.auc(predictions = y_pred, labels = y, curve = 'ROC')\n",
    "        auc_variables = [ v for v in tf.local_variables() if v.name.startswith( \"AUC\" ) ]\n",
    "        auc_reset_op = tf.initialize_variables(auc_variables)\n",
    "    \n",
    "    # Optimizer\n",
    "    lr = tf.train.exponential_decay(0.001, global_step, 10000, 0.95, staircase=True)\n",
    "    optimizer = tf.train.AdamOptimizer(learning_rate = lr).minimize(loss)\n",
    "    \n",
    "    with tf.name_scope(\"Summary\"):\n",
    "        # Summary\n",
    "        summaries_train = [tf.summary.scalar('Loss', loss), \n",
    "                           tf.summary.scalar('Training_Accuracy', accuracy),\n",
    "                           tf.summary.scalar('Training_AUC', auc_update_op)]\n",
    "        summaries_test = [tf.summary.scalar('Testing_Accuracy', accuracy),\n",
    "                          tf.summary.scalar('Testing_AUC', auc_update_op)]\n",
    "    \n",
    "    # Global options\n",
    "    with tf.name_scope(\"global_ops\"):\n",
    "        merged_train = tf.summary.merge(summaries_train)\n",
    "        merged_test = tf.summary.merge(summaries_test)\n",
    "        increment_step = global_step.assign_add(1)"
   ]
  },
  {
   "cell_type": "code",
   "execution_count": 8,
   "metadata": {},
   "outputs": [],
   "source": [
    "def show_progress(epoch, feed_dict_train, feed_dict_test, loss):\n",
    "    acc, auc_value = sess.run([accuracy, auc_update_op], feed_dict = feed_dict_train)\n",
    "    sess.run(auc_reset_op)\n",
    "    test_acc, test_auc_value = sess.run([accuracy, auc_update_op], feed_dict = feed_dict_test)\n",
    "    sess.run(auc_reset_op)\n",
    "    msg = 'Training Epoch {} - Train Acc: {:>6.1%}, Train AUC: {:>6.1%}, Test Acc: {:>6.1%}, Test AUC: {:>6.1%}, Loss: {:.6f}'\n",
    "    print(msg.format(epoch + 1, acc, auc_value, test_acc, test_auc_value, loss))\n",
    "    \n",
    "        \n",
    "def train(num_iteration):\n",
    "    for i in range(0, num_iteration):\n",
    "        \n",
    "        total_batch = int(len(X_train_nn) / nn_batch_size)\n",
    "        feed_dict_train = {x: X_train_nn, y: y_train_nn}\n",
    "        feed_dict_test = {x: X_test_nn, y: y_test_nn}\n",
    "        \n",
    "        for j in range(total_batch):\n",
    "            x_batches = np.array_split(X_train_nn, total_batch)\n",
    "            y_batches = np.array_split(y_train_nn, total_batch)\n",
    "\n",
    "            feed_dict_train_batch = {x: x_batches[j], y: y_batches[j]}\n",
    "\n",
    "            _, auc, s = sess.run([optimizer, auc_update_op, increment_step], feed_dict = feed_dict_train_batch)\n",
    "        \n",
    "        l, summary_train = sess.run([loss, merged_train], feed_dict = feed_dict_train)\n",
    "        writer_nn.add_summary(summary_train, global_step=s)\n",
    "        \n",
    "        sess.run(auc_reset_op)\n",
    "        summary_test = sess.run(merged_test, feed_dict = feed_dict_test)\n",
    "        writer_nn.add_summary(summary_test, global_step=s)\n",
    "        \n",
    "        if i % 10 == 0:\n",
    "            show_progress(i/100, feed_dict_train, feed_dict_test, l)\n",
    "    \n",
    "    print(\"Train: \\n\", confusion_matrix.eval(feed_dict_train))\n",
    "    print(\"Test: \\n\", confusion_matrix.eval(feed_dict_test))"
   ]
  },
  {
   "cell_type": "code",
   "execution_count": 9,
   "metadata": {
    "scrolled": true
   },
   "outputs": [
    {
     "name": "stdout",
     "output_type": "stream",
     "text": [
      "Training Epoch 1.0 - Train Acc:  54.8%, Train AUC:  50.7%, Test Acc:  21.8%, Test AUC:  21.5%, Loss: 59.301781\n",
      "Training Epoch 1.1 - Train Acc:  59.7%, Train AUC:  56.3%, Test Acc:  29.0%, Test AUC:  27.6%, Loss: 9.883902\n",
      "Training Epoch 1.2 - Train Acc:  59.6%, Train AUC:  57.3%, Test Acc:  28.0%, Test AUC:  24.7%, Loss: 3.109306\n",
      "Training Epoch 1.3 - Train Acc:  60.9%, Train AUC:  62.2%, Test Acc:  30.0%, Test AUC:  25.7%, Loss: 1.316013\n",
      "Training Epoch 1.4 - Train Acc:  66.1%, Train AUC:  68.6%, Test Acc:  40.2%, Test AUC:  36.2%, Loss: 0.949088\n",
      "Training Epoch 1.5 - Train Acc:  69.2%, Train AUC:  72.4%, Test Acc:  46.4%, Test AUC:  43.7%, Loss: 0.831571\n",
      "Training Epoch 1.6 - Train Acc:  69.8%, Train AUC:  73.7%, Test Acc:  47.1%, Test AUC:  46.5%, Loss: 0.794701\n",
      "Training Epoch 1.7 - Train Acc:  71.9%, Train AUC:  76.3%, Test Acc:  50.6%, Test AUC:  52.0%, Loss: 0.729979\n",
      "Training Epoch 1.8 - Train Acc:  72.4%, Train AUC:  77.1%, Test Acc:  51.0%, Test AUC:  52.8%, Loss: 0.707675\n",
      "Training Epoch 1.9 - Train Acc:  73.6%, Train AUC:  78.3%, Test Acc:  52.5%, Test AUC:  54.7%, Loss: 0.681556\n",
      "Training Epoch 2.0 - Train Acc:  67.4%, Train AUC:  70.5%, Test Acc:  40.8%, Test AUC:  38.9%, Loss: 0.962201\n",
      "Training Epoch 2.1 - Train Acc:  72.4%, Train AUC:  76.7%, Test Acc:  49.2%, Test AUC:  50.5%, Loss: 0.730976\n",
      "Training Epoch 2.2 - Train Acc:  74.3%, Train AUC:  79.0%, Test Acc:  52.3%, Test AUC:  54.8%, Loss: 0.662352\n",
      "Training Epoch 2.3 - Train Acc:  74.7%, Train AUC:  79.5%, Test Acc:  52.9%, Test AUC:  55.4%, Loss: 0.648643\n",
      "Training Epoch 2.4 - Train Acc:  76.2%, Train AUC:  81.0%, Test Acc:  55.1%, Test AUC:  58.4%, Loss: 0.611227\n",
      "Training Epoch 2.5 - Train Acc:  76.8%, Train AUC:  81.5%, Test Acc:  56.0%, Test AUC:  59.4%, Loss: 0.612984\n",
      "Training Epoch 2.6 - Train Acc:  77.6%, Train AUC:  82.4%, Test Acc:  57.1%, Test AUC:  61.0%, Loss: 0.585224\n",
      "Training Epoch 2.7 - Train Acc:  77.8%, Train AUC:  82.6%, Test Acc:  57.6%, Test AUC:  61.4%, Loss: 0.583190\n",
      "Training Epoch 2.8 - Train Acc:  78.8%, Train AUC:  83.6%, Test Acc:  58.9%, Test AUC:  63.3%, Loss: 0.557260\n",
      "Training Epoch 2.9 - Train Acc:  79.0%, Train AUC:  83.8%, Test Acc:  59.3%, Test AUC:  63.6%, Loss: 0.554539\n",
      "Training Epoch 3.0 - Train Acc:  79.4%, Train AUC:  84.1%, Test Acc:  59.9%, Test AUC:  64.3%, Loss: 0.547601\n",
      "Training Epoch 3.1 - Train Acc:  79.6%, Train AUC:  84.3%, Test Acc:  60.1%, Test AUC:  64.6%, Loss: 0.539995\n",
      "Training Epoch 3.2 - Train Acc:  80.0%, Train AUC:  84.7%, Test Acc:  60.6%, Test AUC:  65.3%, Loss: 0.529871\n",
      "Training Epoch 3.3 - Train Acc:  80.2%, Train AUC:  85.0%, Test Acc:  61.1%, Test AUC:  65.8%, Loss: 0.523895\n",
      "Training Epoch 3.4 - Train Acc:  80.2%, Train AUC:  84.9%, Test Acc:  61.1%, Test AUC:  65.7%, Loss: 0.528372\n",
      "Training Epoch 3.5 - Train Acc:  81.3%, Train AUC:  86.1%, Test Acc:  62.8%, Test AUC:  68.0%, Loss: 0.494206\n",
      "Training Epoch 3.6 - Train Acc:  81.3%, Train AUC:  86.0%, Test Acc:  62.7%, Test AUC:  67.9%, Loss: 0.499039\n",
      "Training Epoch 3.7 - Train Acc:  81.8%, Train AUC:  86.5%, Test Acc:  63.5%, Test AUC:  68.9%, Loss: 0.485131\n",
      "Training Epoch 3.8 - Train Acc:  82.3%, Train AUC:  87.0%, Test Acc:  64.3%, Test AUC:  69.9%, Loss: 0.470128\n",
      "Training Epoch 3.9 - Train Acc:  82.6%, Train AUC:  87.3%, Test Acc:  64.7%, Test AUC:  70.4%, Loss: 0.461399\n",
      "Training Epoch 4.0 - Train Acc:  82.7%, Train AUC:  87.4%, Test Acc:  64.9%, Test AUC:  70.7%, Loss: 0.458493\n",
      "Training Epoch 4.1 - Train Acc:  82.3%, Train AUC:  87.0%, Test Acc:  64.2%, Test AUC:  69.7%, Loss: 0.480036\n",
      "Training Epoch 4.2 - Train Acc:  83.4%, Train AUC:  88.0%, Test Acc:  65.8%, Test AUC:  71.7%, Loss: 0.443817\n",
      "Training Epoch 4.3 - Train Acc:  83.6%, Train AUC:  88.2%, Test Acc:  66.3%, Test AUC:  72.2%, Loss: 0.437811\n",
      "Training Epoch 4.4 - Train Acc:  83.7%, Train AUC:  88.1%, Test Acc:  66.3%, Test AUC:  72.1%, Loss: 0.444430\n",
      "Training Epoch 4.5 - Train Acc:  84.3%, Train AUC:  88.7%, Test Acc:  67.3%, Test AUC:  73.4%, Loss: 0.422293\n",
      "Training Epoch 4.6 - Train Acc:  84.3%, Train AUC:  88.6%, Test Acc:  67.2%, Test AUC:  73.2%, Loss: 0.427815\n",
      "Training Epoch 4.7 - Train Acc:  84.6%, Train AUC:  88.9%, Test Acc:  67.7%, Test AUC:  73.8%, Loss: 0.421008\n",
      "Training Epoch 4.8 - Train Acc:  84.6%, Train AUC:  88.8%, Test Acc:  67.8%, Test AUC:  73.8%, Loss: 0.422797\n",
      "Training Epoch 4.9 - Train Acc:  85.2%, Train AUC:  89.4%, Test Acc:  68.7%, Test AUC:  74.9%, Loss: 0.407581\n",
      "Training Epoch 5.0 - Train Acc:  85.1%, Train AUC:  89.2%, Test Acc:  68.5%, Test AUC:  74.5%, Loss: 0.415594\n",
      "Training Epoch 5.1 - Train Acc:  85.3%, Train AUC:  89.3%, Test Acc:  68.7%, Test AUC:  74.9%, Loss: 0.410179\n",
      "Training Epoch 5.2 - Train Acc:  85.9%, Train AUC:  89.9%, Test Acc:  69.7%, Test AUC:  76.1%, Loss: 0.389898\n",
      "Training Epoch 5.3 - Train Acc:  85.9%, Train AUC:  89.9%, Test Acc:  69.7%, Test AUC:  76.1%, Loss: 0.390556\n",
      "Training Epoch 5.4 - Train Acc:  86.1%, Train AUC:  90.1%, Test Acc:  70.0%, Test AUC:  76.3%, Loss: 0.387419\n",
      "Training Epoch 5.5 - Train Acc:  86.1%, Train AUC:  90.0%, Test Acc:  69.8%, Test AUC:  76.2%, Loss: 0.390556\n",
      "Training Epoch 5.6 - Train Acc:  86.6%, Train AUC:  90.4%, Test Acc:  70.6%, Test AUC:  77.1%, Loss: 0.375381\n",
      "Training Epoch 5.7 - Train Acc:  86.0%, Train AUC:  90.0%, Test Acc:  69.7%, Test AUC:  76.0%, Loss: 0.391411\n",
      "Training Epoch 5.8 - Train Acc:  86.7%, Train AUC:  90.5%, Test Acc:  70.8%, Test AUC:  77.2%, Loss: 0.374368\n",
      "Training Epoch 5.9 - Train Acc:  86.9%, Train AUC:  90.7%, Test Acc:  71.1%, Test AUC:  77.5%, Loss: 0.369075\n",
      "Training Epoch 6.0 - Train Acc:  87.0%, Train AUC:  90.8%, Test Acc:  71.4%, Test AUC:  77.8%, Loss: 0.362997\n",
      "Training Epoch 6.1 - Train Acc:  87.1%, Train AUC:  90.9%, Test Acc:  71.5%, Test AUC:  77.9%, Loss: 0.361568\n",
      "Training Epoch 6.2 - Train Acc:  87.1%, Train AUC:  90.9%, Test Acc:  71.6%, Test AUC:  77.9%, Loss: 0.361352\n",
      "Training Epoch 6.3 - Train Acc:  87.5%, Train AUC:  91.2%, Test Acc:  72.1%, Test AUC:  78.6%, Loss: 0.349950\n",
      "Training Epoch 6.4 - Train Acc:  86.4%, Train AUC:  90.2%, Test Acc:  70.3%, Test AUC:  76.3%, Loss: 0.389593\n",
      "Training Epoch 6.5 - Train Acc:  87.6%, Train AUC:  91.3%, Test Acc:  72.2%, Test AUC:  78.7%, Loss: 0.348729\n",
      "Training Epoch 6.6 - Train Acc:  87.9%, Train AUC:  91.6%, Test Acc:  72.6%, Test AUC:  79.2%, Loss: 0.340449\n",
      "Training Epoch 6.7 - Train Acc:  87.9%, Train AUC:  91.6%, Test Acc:  72.7%, Test AUC:  79.3%, Loss: 0.339861\n",
      "Training Epoch 6.8 - Train Acc:  87.7%, Train AUC:  91.4%, Test Acc:  72.4%, Test AUC:  78.8%, Loss: 0.346799\n",
      "Training Epoch 6.9 - Train Acc:  88.0%, Train AUC:  91.6%, Test Acc:  72.9%, Test AUC:  79.4%, Loss: 0.338336\n",
      "Training Epoch 7.0 - Train Acc:  88.2%, Train AUC:  91.8%, Test Acc:  73.2%, Test AUC:  79.7%, Loss: 0.331801\n",
      "Training Epoch 7.1 - Train Acc:  88.3%, Train AUC:  91.9%, Test Acc:  73.4%, Test AUC:  79.9%, Loss: 0.329415\n",
      "Training Epoch 7.2 - Train Acc:  88.4%, Train AUC:  91.9%, Test Acc:  73.4%, Test AUC:  80.0%, Loss: 0.328064\n",
      "Training Epoch 7.3 - Train Acc:  88.6%, Train AUC:  92.1%, Test Acc:  73.8%, Test AUC:  80.4%, Loss: 0.321136\n",
      "Training Epoch 7.4 - Train Acc:  88.7%, Train AUC:  92.2%, Test Acc:  73.9%, Test AUC:  80.4%, Loss: 0.320844\n",
      "Training Epoch 7.5 - Train Acc:  88.7%, Train AUC:  92.2%, Test Acc:  74.0%, Test AUC:  80.5%, Loss: 0.318540\n",
      "Training Epoch 7.6 - Train Acc:  88.6%, Train AUC:  92.1%, Test Acc:  73.8%, Test AUC:  80.3%, Loss: 0.322880\n",
      "Training Epoch 7.7 - Train Acc:  89.1%, Train AUC:  92.5%, Test Acc:  74.5%, Test AUC:  81.0%, Loss: 0.309945\n",
      "Training Epoch 7.8 - Train Acc:  89.0%, Train AUC:  92.4%, Test Acc:  74.4%, Test AUC:  80.9%, Loss: 0.311617\n",
      "Training Epoch 7.9 - Train Acc:  88.3%, Train AUC:  91.7%, Test Acc:  73.2%, Test AUC:  79.4%, Loss: 0.339254\n",
      "Training Epoch 8.0 - Train Acc:  89.2%, Train AUC:  92.6%, Test Acc:  74.7%, Test AUC:  81.2%, Loss: 0.306040\n",
      "Training Epoch 8.1 - Train Acc:  89.3%, Train AUC:  92.6%, Test Acc:  74.8%, Test AUC:  81.3%, Loss: 0.304407\n",
      "Training Epoch 8.2 - Train Acc:  89.4%, Train AUC:  92.7%, Test Acc:  75.0%, Test AUC:  81.5%, Loss: 0.300869\n",
      "Training Epoch 8.3 - Train Acc:  89.4%, Train AUC:  92.7%, Test Acc:  74.9%, Test AUC:  81.4%, Loss: 0.302189\n",
      "Training Epoch 8.4 - Train Acc:  89.6%, Train AUC:  92.9%, Test Acc:  75.3%, Test AUC:  81.8%, Loss: 0.295730\n"
     ]
    },
    {
     "name": "stdout",
     "output_type": "stream",
     "text": [
      "Training Epoch 8.5 - Train Acc:  89.7%, Train AUC:  92.9%, Test Acc:  75.4%, Test AUC:  81.9%, Loss: 0.293480\n",
      "Training Epoch 8.6 - Train Acc:  89.7%, Train AUC:  92.9%, Test Acc:  75.3%, Test AUC:  81.9%, Loss: 0.293891\n",
      "Training Epoch 8.7 - Train Acc:  89.9%, Train AUC:  93.1%, Test Acc:  75.7%, Test AUC:  82.2%, Loss: 0.286914\n",
      "Training Epoch 8.8 - Train Acc:  90.0%, Train AUC:  93.2%, Test Acc:  75.8%, Test AUC:  82.4%, Loss: 0.285118\n",
      "Training Epoch 8.9 - Train Acc:  89.9%, Train AUC:  93.1%, Test Acc:  75.6%, Test AUC:  82.1%, Loss: 0.288589\n",
      "Training Epoch 9.0 - Train Acc:  90.0%, Train AUC:  93.2%, Test Acc:  75.8%, Test AUC:  82.3%, Loss: 0.285079\n",
      "Training Epoch 9.1 - Train Acc:  90.2%, Train AUC:  93.3%, Test Acc:  76.1%, Test AUC:  82.6%, Loss: 0.280058\n",
      "Training Epoch 9.2 - Train Acc:  90.2%, Train AUC:  93.3%, Test Acc:  76.1%, Test AUC:  82.6%, Loss: 0.279253\n",
      "Training Epoch 9.3 - Train Acc:  90.2%, Train AUC:  93.4%, Test Acc:  76.1%, Test AUC:  82.6%, Loss: 0.278977\n",
      "Training Epoch 9.4 - Train Acc:  90.4%, Train AUC:  93.5%, Test Acc:  76.4%, Test AUC:  82.9%, Loss: 0.274377\n",
      "Training Epoch 9.5 - Train Acc:  90.4%, Train AUC:  93.5%, Test Acc:  76.4%, Test AUC:  82.9%, Loss: 0.274636\n",
      "Training Epoch 9.6 - Train Acc:  90.5%, Train AUC:  93.5%, Test Acc:  76.4%, Test AUC:  82.9%, Loss: 0.273779\n",
      "Training Epoch 9.7 - Train Acc:  90.5%, Train AUC:  93.5%, Test Acc:  76.5%, Test AUC:  83.0%, Loss: 0.272649\n",
      "Training Epoch 9.8 - Train Acc:  90.7%, Train AUC:  93.7%, Test Acc:  76.8%, Test AUC:  83.3%, Loss: 0.268063\n",
      "Training Epoch 9.9 - Train Acc:  90.7%, Train AUC:  93.7%, Test Acc:  76.9%, Test AUC:  83.3%, Loss: 0.266856\n",
      "Training Epoch 10.0 - Train Acc:  90.7%, Train AUC:  93.7%, Test Acc:  76.9%, Test AUC:  83.4%, Loss: 0.265818\n",
      "Training Epoch 10.1 - Train Acc:  90.8%, Train AUC:  93.8%, Test Acc:  77.1%, Test AUC:  83.5%, Loss: 0.263070\n",
      "Training Epoch 10.2 - Train Acc:  90.8%, Train AUC:  93.8%, Test Acc:  77.0%, Test AUC:  83.4%, Loss: 0.263821\n",
      "Training Epoch 10.3 - Train Acc:  90.9%, Train AUC:  93.8%, Test Acc:  77.1%, Test AUC:  83.5%, Loss: 0.261786\n",
      "Training Epoch 10.4 - Train Acc:  91.0%, Train AUC:  93.9%, Test Acc:  77.4%, Test AUC:  83.7%, Loss: 0.258164\n",
      "Training Epoch 10.5 - Train Acc:  91.1%, Train AUC:  94.0%, Test Acc:  77.4%, Test AUC:  83.8%, Loss: 0.256233\n",
      "Training Epoch 10.6 - Train Acc:  91.1%, Train AUC:  94.0%, Test Acc:  77.5%, Test AUC:  83.8%, Loss: 0.256256\n",
      "Training Epoch 10.7 - Train Acc:  91.1%, Train AUC:  93.9%, Test Acc:  77.5%, Test AUC:  83.7%, Loss: 0.257171\n",
      "Training Epoch 10.8 - Train Acc:  91.3%, Train AUC:  94.1%, Test Acc:  77.7%, Test AUC:  84.1%, Loss: 0.251796\n",
      "Training Epoch 10.9 - Train Acc:  91.3%, Train AUC:  94.1%, Test Acc:  77.7%, Test AUC:  84.0%, Loss: 0.251629\n",
      "Train: \n",
      " [[143140  24157]\n",
      " [   825 119808]]\n",
      "Test: \n",
      " [[ 2550  7396]\n",
      " [ 1513 28541]]\n"
     ]
    }
   ],
   "source": [
    "with tf.Session(graph = nn_Graph) as sess:\n",
    "    writer_nn = tf.summary.FileWriter('./', nn_Graph)\n",
    "    init = tf.group(tf.global_variables_initializer(), tf.local_variables_initializer())\n",
    "    sess.run(init) \n",
    "    train(num_iteration = 1000)\n",
    "    writer_nn.flush()\n",
    "    writer_nn.close()"
   ]
  },
  {
   "cell_type": "code",
   "execution_count": null,
   "metadata": {},
   "outputs": [],
   "source": []
  }
 ],
 "metadata": {
  "kernelspec": {
   "display_name": "Python 3",
   "language": "python",
   "name": "python3"
  },
  "language_info": {
   "codemirror_mode": {
    "name": "ipython",
    "version": 3
   },
   "file_extension": ".py",
   "mimetype": "text/x-python",
   "name": "python",
   "nbconvert_exporter": "python",
   "pygments_lexer": "ipython3",
   "version": "3.6.8"
  }
 },
 "nbformat": 4,
 "nbformat_minor": 2
}
